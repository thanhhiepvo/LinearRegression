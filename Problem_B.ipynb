{
 "cells": [
  {
   "cell_type": "markdown",
   "id": "1040ecdf",
   "metadata": {},
   "source": [
    "### Student ID: 21127275\n",
    "### Fullname: Võ Thanh Hiệp"
   ]
  },
  {
   "cell_type": "code",
   "execution_count": 1,
   "id": "6250e121",
   "metadata": {},
   "outputs": [],
   "source": [
    "# duplicating a vector\n",
    "def copyVector(vector):\n",
    "    result = []\n",
    "    for i in range(len(vector)):\n",
    "        result.append(vector[i])\n",
    "    return result\n",
    "\n",
    "# duplicating a matrix\n",
    "def copyMatrix(Matrix):\n",
    "    result = []\n",
    "    nRow = len(Matrix)\n",
    "    nColumn = len(Matrix[0])\n",
    "    \n",
    "    for i in range(nRow):\n",
    "        row = []\n",
    "        for j in range(nColumn):\n",
    "            row.append(Matrix[i][j])\n",
    "        result.append(row)\n",
    "            \n",
    "    return result\n",
    "\n",
    "# print the matrix\n",
    "def printMatrix(Matrix):\n",
    "    nRow = len(Matrix)\n",
    "    print('[', end=\"\")\n",
    "    for i in range(nRow - 1):\n",
    "        print(Matrix[i])\n",
    "    print(Matrix[nRow - 1], end=\"\")\n",
    "    print(']')\n",
    "    \n",
    "# subtract 2 vectors\n",
    "def subtractTwoVectors(vector1, vector2):\n",
    "    Res_Vector = []\n",
    "    if len(vector1) != len(vector2):\n",
    "        print(\"Cannot add two vectors with different lengths\")\n",
    "        return\n",
    "    \n",
    "    length = len(vector1)\n",
    "    for i in range(length):\n",
    "        Res_Vector.append(vector1[i] - vector2[i])\n",
    "        \n",
    "    return Res_Vector\n",
    "\n",
    "# calculating the norm of vector\n",
    "def norm(vector):\n",
    "    result = 0\n",
    "    for i in range(len(vector)):\n",
    "        result += vector[i]**2\n",
    "    \n",
    "    return result**(1/2)"
   ]
  },
  {
   "cell_type": "code",
   "execution_count": 2,
   "id": "c0e2ca44",
   "metadata": {},
   "outputs": [],
   "source": [
    "# checking whether 2 matrix can multiple with each other\n",
    "def isValidToMultiple(A, B):\n",
    "    columnA = len(A[0])\n",
    "    rowB = len(B)\n",
    "    \n",
    "    if columnA == rowB:\n",
    "        return True\n",
    "    return False\n",
    "\n",
    "# calculating dot product of 2 vectors\n",
    "def dotProduct(fVector, sVector):\n",
    "    if len(fVector) != len(sVector):\n",
    "        return \"Cannot dot\"\n",
    "    \n",
    "    result = 0\n",
    "    for i in range(len(fVector)):\n",
    "        result += fVector[i] * sVector[i]\n",
    "        \n",
    "    return result\n",
    "\n",
    "# getting the column from a matrix in a particular position\n",
    "def getColumn(Matrix, pColumn):\n",
    "    if type(Matrix[0]) is not list:\n",
    "        return Matrix[pColumn]\n",
    "    \n",
    "    nCol = len(Matrix[0])\n",
    "    if pColumn > nCol:\n",
    "        return 'Invalid! Column position is not exists'\n",
    "    \n",
    "    row = len(Matrix)\n",
    "    result = []\n",
    "    for i in range(row):\n",
    "        result.append(Matrix[i][pColumn])\n",
    "        \n",
    "    return result\n",
    "\n",
    "# multipling 2 matrixs\n",
    "def multiple2Matrixs(A, B):\n",
    "    if isValidToMultiple(A, B) == False:\n",
    "        return 'Invalid! Cannot multiple'\n",
    "    \n",
    "    result = []\n",
    "    row = len(A)\n",
    "    column = len(B[0]) if type(B[0]) is list else len(B)\n",
    "    \n",
    "    for i in range(row):\n",
    "        line = []\n",
    "        for j in range(column):\n",
    "            columnB = getColumn(B, j)\n",
    "            line.append(dotProduct(A[i], columnB))\n",
    "        result.append(line)\n",
    "        \n",
    "    return result"
   ]
  },
  {
   "cell_type": "code",
   "execution_count": 3,
   "id": "009b5305",
   "metadata": {},
   "outputs": [],
   "source": [
    "# transposing the matrix\n",
    "def transposeMatrix(matrix):\n",
    "    if type(matrix[0]) is not list:\n",
    "        transpose_matrix = []\n",
    "        for i in range(len(matrix)):\n",
    "            transpose_matrix.append([matrix[i]])\n",
    "        return transpose_matrix\n",
    "    \n",
    "    nRow = len(matrix)\n",
    "    nCol = len(matrix[0])\n",
    "    transpose_matrix = []\n",
    "    \n",
    "    if nCol == 1:\n",
    "        for i in range(nRow):\n",
    "            transpose_matrix.append(matrix[i][0])\n",
    "        return transpose_matrix\n",
    "    \n",
    "    for i in range(nCol):\n",
    "        line = []\n",
    "        for j in range(nRow):\n",
    "            line.append(matrix[j][i])\n",
    "        transpose_matrix.append(line)\n",
    "            \n",
    "    return transpose_matrix"
   ]
  },
  {
   "cell_type": "code",
   "execution_count": 4,
   "id": "8e4ece0e",
   "metadata": {},
   "outputs": [],
   "source": [
    "\"\"\"\n",
    "When the lead element is found out. Of course, it values will be 1. In the column includes this cell, \n",
    "make all cells above and below it to 0.\n",
    "\"\"\"\n",
    "def clearColumnIncludeLeadElement(Matrix, cellRow, cellColumn, nRow, nColumn):\n",
    "    for i in range(cellRow + 1, nRow):\n",
    "        rate = Matrix[i][cellColumn] / Matrix[cellRow][cellColumn]\n",
    "        for j in range(cellColumn, nColumn):\n",
    "            Matrix[i][j] -= rate * Matrix[cellRow][j]\n",
    "    \n",
    "    for i in range(cellRow):\n",
    "        rate = Matrix[i][cellColumn] / Matrix[cellRow][cellColumn]\n",
    "        for j in range(cellColumn, nColumn):\n",
    "            Matrix[i][j] -= rate * Matrix[cellRow][j]\n",
    "            \n",
    "# Using for inverse fomulation\n",
    "def clearColumnOf2MatrixsIncludeLeadElement(Matrix, Augmented_Inverse, cellRow, cellColumn, nRow, nColumn):\n",
    "    for i in range(cellRow + 1, nRow):\n",
    "        rate = Matrix[i][cellColumn] / Matrix[cellRow][cellColumn]\n",
    "        for j in range(cellColumn, nColumn):\n",
    "            Matrix[i][j] -= rate * Matrix[cellRow][j]\n",
    "        for j in range(nColumn):\n",
    "            Augmented_Inverse[i][j] -= rate * Augmented_Inverse[cellRow][j]\n",
    "    \n",
    "    for i in range(cellRow):\n",
    "        rate = Matrix[i][cellColumn] / Matrix[cellRow][cellColumn]\n",
    "        for j in range(cellColumn, nColumn):\n",
    "            Matrix[i][j] -= rate * Matrix[cellRow][j]\n",
    "        for j in range(nColumn):\n",
    "            Augmented_Inverse[i][j] -= rate * Augmented_Inverse[cellRow][j]\n",
    "\n",
    "# Reducing all values in row by dividing them by the lead element in that row.\n",
    "def divideRowWithANumber(Row, dividend, n):\n",
    "    for i in range(n):\n",
    "        Row[i] /=  dividend\n",
    "\n",
    "# If the cell at A[cellRow][cellColumn] = 0. Finding the cell below it that different from value 0.\n",
    "def findLeadPositionBelowCellInColumn(Matrix, cellRow, cellColumn, nRow):\n",
    "    for i in range(cellRow + 1, nRow):\n",
    "        if Matrix[i][cellColumn] != 0:\n",
    "            return i\n",
    "    return nRow\n",
    "\n",
    "# checking whether the Matrix is invertible\n",
    "def checkIfTheMatrixHasInverse(Matrix, nRow, nColumn):\n",
    "    if nRow < nColumn:\n",
    "        return False\n",
    "    \n",
    "    for i in range(nColumn):\n",
    "        if Matrix[i][i] != 1:\n",
    "            return False\n",
    "        \n",
    "    for i in range(nColumn):\n",
    "        for j in range(nColumn):\n",
    "            if i == j:\n",
    "                continue\n",
    "            if Matrix[i][j] != 0:\n",
    "                return False\n",
    "            \n",
    "    for i in range(nColumn, nRow):\n",
    "        for j in range(nColumn):\n",
    "            if Matrix[i][j] != 0:\n",
    "                return False\n",
    "            \n",
    "    return True\n",
    "\n",
    "# calculating inverse matrix\n",
    "def inverse(A):\n",
    "    Matrix = copyMatrix(A)\n",
    "    nRow = len(Matrix)\n",
    "    nColumn = len(Matrix[0])\n",
    "    \n",
    "    result_Matrix = []\n",
    "    for i in range(nRow):\n",
    "        result_Matrix.append([0] * nColumn)\n",
    "        \n",
    "    for i in range(nRow):\n",
    "        result_Matrix[i][i] = 1\n",
    "    \n",
    "    j = 0\n",
    "    for i in range(nColumn):\n",
    "        if Matrix[j][i] == 0:\n",
    "            rowSwitch = findLeadPositionBelowCellInColumn(Matrix, j, i, nRow)\n",
    "            if rowSwitch == nRow:\n",
    "                continue\n",
    "            Matrix[j], Matrix[rowSwitch] = Matrix[rowSwitch], Matrix[j]\n",
    "            result_Matrix[j], result_Matrix[rowSwitch] = result_Matrix[rowSwitch], result_Matrix[j]\n",
    "        \n",
    "        leadElement = Matrix[j][i]\n",
    "        divideRowWithANumber(Matrix[j], leadElement, nColumn)\n",
    "        divideRowWithANumber(result_Matrix[j], leadElement, nColumn)\n",
    "        clearColumnOf2MatrixsIncludeLeadElement(Matrix, result_Matrix, j, i, nRow, nColumn)\n",
    "        \n",
    "        j += 1\n",
    "        if j == nRow:\n",
    "            break\n",
    "            \n",
    "    if checkIfTheMatrixHasInverse(Matrix, nRow, nColumn) == False:\n",
    "        return 'Ma trận không khả nghịch'\n",
    "    \n",
    "    return result_Matrix"
   ]
  },
  {
   "cell_type": "code",
   "execution_count": 5,
   "id": "e5e738cf",
   "metadata": {},
   "outputs": [],
   "source": [
    "# creating the matrix A with a column 1 in the first\n",
    "def getA(xs):\n",
    "    A = []\n",
    "    if type(xs[0]) is not list:\n",
    "        for i in range(len(xs)):\n",
    "            A.append([1, xs[i]])\n",
    "        return A\n",
    "    \n",
    "    for i in range(len(xs)):\n",
    "        line = [1]\n",
    "        for j in range(len(xs[0])):\n",
    "            line.append(xs[i][j])\n",
    "        A.append(line)\n",
    "        \n",
    "    return A"
   ]
  },
  {
   "cell_type": "code",
   "execution_count": 6,
   "id": "be307e53",
   "metadata": {},
   "outputs": [],
   "source": [
    "# calculating the Ordinary Least Square\n",
    "def OLS(A, y):\n",
    "    transposeA = transposeMatrix(A)\n",
    "    \n",
    "    result = multiple2Matrixs(transposeA, A)\n",
    "    result = inverse(result)\n",
    "    result = multiple2Matrixs(result, transposeA)\n",
    "    result = multiple2Matrixs(result, y)\n",
    "    \n",
    "    return result"
   ]
  },
  {
   "cell_type": "code",
   "execution_count": 7,
   "id": "45294d31",
   "metadata": {},
   "outputs": [],
   "source": [
    "# calculating the Root Mean Square Deviation\n",
    "def calculateRMSE(A, x, y):\n",
    "    result = multiple2Matrixs(A, x)\n",
    "    result = transposeMatrix(result)\n",
    "    \n",
    "    y = transposeMatrix(y)\n",
    "    \n",
    "    result = subtractTwoVectors(result, y)\n",
    "    return norm(result)"
   ]
  },
  {
   "cell_type": "code",
   "execution_count": 8,
   "id": "695e09bc",
   "metadata": {},
   "outputs": [],
   "source": [
    "import pandas as pd\n",
    "df = pd.read_csv('NHANES_age_prediction.csv')"
   ]
  },
  {
   "cell_type": "code",
   "execution_count": 9,
   "id": "1f2e7b79",
   "metadata": {},
   "outputs": [
    {
     "data": {
      "text/html": [
       "<div>\n",
       "<style scoped>\n",
       "    .dataframe tbody tr th:only-of-type {\n",
       "        vertical-align: middle;\n",
       "    }\n",
       "\n",
       "    .dataframe tbody tr th {\n",
       "        vertical-align: top;\n",
       "    }\n",
       "\n",
       "    .dataframe thead th {\n",
       "        text-align: right;\n",
       "    }\n",
       "</style>\n",
       "<table border=\"1\" class=\"dataframe\">\n",
       "  <thead>\n",
       "    <tr style=\"text-align: right;\">\n",
       "      <th></th>\n",
       "      <th>SEQN</th>\n",
       "      <th>age_group</th>\n",
       "      <th>RIDAGEYR</th>\n",
       "      <th>RIAGENDR</th>\n",
       "      <th>PAQ605</th>\n",
       "      <th>BMXBMI</th>\n",
       "      <th>LBXGLU</th>\n",
       "      <th>DIQ010</th>\n",
       "      <th>LBXGLT</th>\n",
       "      <th>LBXIN</th>\n",
       "    </tr>\n",
       "  </thead>\n",
       "  <tbody>\n",
       "    <tr>\n",
       "      <th>0</th>\n",
       "      <td>73564.0</td>\n",
       "      <td>Adult</td>\n",
       "      <td>61.0</td>\n",
       "      <td>2.0</td>\n",
       "      <td>2.0</td>\n",
       "      <td>35.7</td>\n",
       "      <td>110.0</td>\n",
       "      <td>2.0</td>\n",
       "      <td>150.0</td>\n",
       "      <td>14.91</td>\n",
       "    </tr>\n",
       "    <tr>\n",
       "      <th>1</th>\n",
       "      <td>73568.0</td>\n",
       "      <td>Adult</td>\n",
       "      <td>26.0</td>\n",
       "      <td>2.0</td>\n",
       "      <td>2.0</td>\n",
       "      <td>20.3</td>\n",
       "      <td>89.0</td>\n",
       "      <td>2.0</td>\n",
       "      <td>80.0</td>\n",
       "      <td>3.85</td>\n",
       "    </tr>\n",
       "    <tr>\n",
       "      <th>2</th>\n",
       "      <td>73576.0</td>\n",
       "      <td>Adult</td>\n",
       "      <td>16.0</td>\n",
       "      <td>1.0</td>\n",
       "      <td>2.0</td>\n",
       "      <td>23.2</td>\n",
       "      <td>89.0</td>\n",
       "      <td>2.0</td>\n",
       "      <td>68.0</td>\n",
       "      <td>6.14</td>\n",
       "    </tr>\n",
       "    <tr>\n",
       "      <th>3</th>\n",
       "      <td>73577.0</td>\n",
       "      <td>Adult</td>\n",
       "      <td>32.0</td>\n",
       "      <td>1.0</td>\n",
       "      <td>2.0</td>\n",
       "      <td>28.9</td>\n",
       "      <td>104.0</td>\n",
       "      <td>2.0</td>\n",
       "      <td>84.0</td>\n",
       "      <td>16.15</td>\n",
       "    </tr>\n",
       "    <tr>\n",
       "      <th>4</th>\n",
       "      <td>73580.0</td>\n",
       "      <td>Adult</td>\n",
       "      <td>38.0</td>\n",
       "      <td>2.0</td>\n",
       "      <td>1.0</td>\n",
       "      <td>35.9</td>\n",
       "      <td>103.0</td>\n",
       "      <td>2.0</td>\n",
       "      <td>81.0</td>\n",
       "      <td>10.92</td>\n",
       "    </tr>\n",
       "    <tr>\n",
       "      <th>...</th>\n",
       "      <td>...</td>\n",
       "      <td>...</td>\n",
       "      <td>...</td>\n",
       "      <td>...</td>\n",
       "      <td>...</td>\n",
       "      <td>...</td>\n",
       "      <td>...</td>\n",
       "      <td>...</td>\n",
       "      <td>...</td>\n",
       "      <td>...</td>\n",
       "    </tr>\n",
       "    <tr>\n",
       "      <th>2273</th>\n",
       "      <td>83711.0</td>\n",
       "      <td>Adult</td>\n",
       "      <td>38.0</td>\n",
       "      <td>2.0</td>\n",
       "      <td>2.0</td>\n",
       "      <td>33.5</td>\n",
       "      <td>100.0</td>\n",
       "      <td>2.0</td>\n",
       "      <td>73.0</td>\n",
       "      <td>6.53</td>\n",
       "    </tr>\n",
       "    <tr>\n",
       "      <th>2274</th>\n",
       "      <td>83712.0</td>\n",
       "      <td>Adult</td>\n",
       "      <td>61.0</td>\n",
       "      <td>1.0</td>\n",
       "      <td>2.0</td>\n",
       "      <td>30.0</td>\n",
       "      <td>93.0</td>\n",
       "      <td>2.0</td>\n",
       "      <td>208.0</td>\n",
       "      <td>13.02</td>\n",
       "    </tr>\n",
       "    <tr>\n",
       "      <th>2275</th>\n",
       "      <td>83713.0</td>\n",
       "      <td>Adult</td>\n",
       "      <td>34.0</td>\n",
       "      <td>1.0</td>\n",
       "      <td>2.0</td>\n",
       "      <td>23.7</td>\n",
       "      <td>103.0</td>\n",
       "      <td>2.0</td>\n",
       "      <td>124.0</td>\n",
       "      <td>21.41</td>\n",
       "    </tr>\n",
       "    <tr>\n",
       "      <th>2276</th>\n",
       "      <td>83718.0</td>\n",
       "      <td>Adult</td>\n",
       "      <td>60.0</td>\n",
       "      <td>2.0</td>\n",
       "      <td>2.0</td>\n",
       "      <td>27.4</td>\n",
       "      <td>90.0</td>\n",
       "      <td>2.0</td>\n",
       "      <td>108.0</td>\n",
       "      <td>4.99</td>\n",
       "    </tr>\n",
       "    <tr>\n",
       "      <th>2277</th>\n",
       "      <td>83727.0</td>\n",
       "      <td>Adult</td>\n",
       "      <td>26.0</td>\n",
       "      <td>1.0</td>\n",
       "      <td>2.0</td>\n",
       "      <td>24.5</td>\n",
       "      <td>108.0</td>\n",
       "      <td>2.0</td>\n",
       "      <td>108.0</td>\n",
       "      <td>3.76</td>\n",
       "    </tr>\n",
       "  </tbody>\n",
       "</table>\n",
       "<p>2278 rows × 10 columns</p>\n",
       "</div>"
      ],
      "text/plain": [
       "         SEQN age_group  RIDAGEYR  RIAGENDR  PAQ605  BMXBMI  LBXGLU  DIQ010  \\\n",
       "0     73564.0     Adult      61.0       2.0     2.0    35.7   110.0     2.0   \n",
       "1     73568.0     Adult      26.0       2.0     2.0    20.3    89.0     2.0   \n",
       "2     73576.0     Adult      16.0       1.0     2.0    23.2    89.0     2.0   \n",
       "3     73577.0     Adult      32.0       1.0     2.0    28.9   104.0     2.0   \n",
       "4     73580.0     Adult      38.0       2.0     1.0    35.9   103.0     2.0   \n",
       "...       ...       ...       ...       ...     ...     ...     ...     ...   \n",
       "2273  83711.0     Adult      38.0       2.0     2.0    33.5   100.0     2.0   \n",
       "2274  83712.0     Adult      61.0       1.0     2.0    30.0    93.0     2.0   \n",
       "2275  83713.0     Adult      34.0       1.0     2.0    23.7   103.0     2.0   \n",
       "2276  83718.0     Adult      60.0       2.0     2.0    27.4    90.0     2.0   \n",
       "2277  83727.0     Adult      26.0       1.0     2.0    24.5   108.0     2.0   \n",
       "\n",
       "      LBXGLT  LBXIN  \n",
       "0      150.0  14.91  \n",
       "1       80.0   3.85  \n",
       "2       68.0   6.14  \n",
       "3       84.0  16.15  \n",
       "4       81.0  10.92  \n",
       "...      ...    ...  \n",
       "2273    73.0   6.53  \n",
       "2274   208.0  13.02  \n",
       "2275   124.0  21.41  \n",
       "2276   108.0   4.99  \n",
       "2277   108.0   3.76  \n",
       "\n",
       "[2278 rows x 10 columns]"
      ]
     },
     "execution_count": 9,
     "metadata": {},
     "output_type": "execute_result"
    }
   ],
   "source": [
    "df"
   ]
  },
  {
   "cell_type": "code",
   "execution_count": 10,
   "id": "a097ac84",
   "metadata": {},
   "outputs": [
    {
     "data": {
      "text/html": [
       "<div>\n",
       "<style scoped>\n",
       "    .dataframe tbody tr th:only-of-type {\n",
       "        vertical-align: middle;\n",
       "    }\n",
       "\n",
       "    .dataframe tbody tr th {\n",
       "        vertical-align: top;\n",
       "    }\n",
       "\n",
       "    .dataframe thead th {\n",
       "        text-align: right;\n",
       "    }\n",
       "</style>\n",
       "<table border=\"1\" class=\"dataframe\">\n",
       "  <thead>\n",
       "    <tr style=\"text-align: right;\">\n",
       "      <th></th>\n",
       "      <th>RIDAGEYR</th>\n",
       "      <th>RIAGENDR</th>\n",
       "      <th>PAQ605</th>\n",
       "      <th>BMXBMI</th>\n",
       "      <th>LBXGLU</th>\n",
       "      <th>DIQ010</th>\n",
       "      <th>LBXGLT</th>\n",
       "      <th>LBXIN</th>\n",
       "    </tr>\n",
       "  </thead>\n",
       "  <tbody>\n",
       "    <tr>\n",
       "      <th>0</th>\n",
       "      <td>61.0</td>\n",
       "      <td>2.0</td>\n",
       "      <td>2.0</td>\n",
       "      <td>35.7</td>\n",
       "      <td>110.0</td>\n",
       "      <td>2.0</td>\n",
       "      <td>150.0</td>\n",
       "      <td>14.91</td>\n",
       "    </tr>\n",
       "    <tr>\n",
       "      <th>1</th>\n",
       "      <td>26.0</td>\n",
       "      <td>2.0</td>\n",
       "      <td>2.0</td>\n",
       "      <td>20.3</td>\n",
       "      <td>89.0</td>\n",
       "      <td>2.0</td>\n",
       "      <td>80.0</td>\n",
       "      <td>3.85</td>\n",
       "    </tr>\n",
       "    <tr>\n",
       "      <th>2</th>\n",
       "      <td>16.0</td>\n",
       "      <td>1.0</td>\n",
       "      <td>2.0</td>\n",
       "      <td>23.2</td>\n",
       "      <td>89.0</td>\n",
       "      <td>2.0</td>\n",
       "      <td>68.0</td>\n",
       "      <td>6.14</td>\n",
       "    </tr>\n",
       "    <tr>\n",
       "      <th>3</th>\n",
       "      <td>32.0</td>\n",
       "      <td>1.0</td>\n",
       "      <td>2.0</td>\n",
       "      <td>28.9</td>\n",
       "      <td>104.0</td>\n",
       "      <td>2.0</td>\n",
       "      <td>84.0</td>\n",
       "      <td>16.15</td>\n",
       "    </tr>\n",
       "    <tr>\n",
       "      <th>4</th>\n",
       "      <td>38.0</td>\n",
       "      <td>2.0</td>\n",
       "      <td>1.0</td>\n",
       "      <td>35.9</td>\n",
       "      <td>103.0</td>\n",
       "      <td>2.0</td>\n",
       "      <td>81.0</td>\n",
       "      <td>10.92</td>\n",
       "    </tr>\n",
       "    <tr>\n",
       "      <th>...</th>\n",
       "      <td>...</td>\n",
       "      <td>...</td>\n",
       "      <td>...</td>\n",
       "      <td>...</td>\n",
       "      <td>...</td>\n",
       "      <td>...</td>\n",
       "      <td>...</td>\n",
       "      <td>...</td>\n",
       "    </tr>\n",
       "    <tr>\n",
       "      <th>2273</th>\n",
       "      <td>38.0</td>\n",
       "      <td>2.0</td>\n",
       "      <td>2.0</td>\n",
       "      <td>33.5</td>\n",
       "      <td>100.0</td>\n",
       "      <td>2.0</td>\n",
       "      <td>73.0</td>\n",
       "      <td>6.53</td>\n",
       "    </tr>\n",
       "    <tr>\n",
       "      <th>2274</th>\n",
       "      <td>61.0</td>\n",
       "      <td>1.0</td>\n",
       "      <td>2.0</td>\n",
       "      <td>30.0</td>\n",
       "      <td>93.0</td>\n",
       "      <td>2.0</td>\n",
       "      <td>208.0</td>\n",
       "      <td>13.02</td>\n",
       "    </tr>\n",
       "    <tr>\n",
       "      <th>2275</th>\n",
       "      <td>34.0</td>\n",
       "      <td>1.0</td>\n",
       "      <td>2.0</td>\n",
       "      <td>23.7</td>\n",
       "      <td>103.0</td>\n",
       "      <td>2.0</td>\n",
       "      <td>124.0</td>\n",
       "      <td>21.41</td>\n",
       "    </tr>\n",
       "    <tr>\n",
       "      <th>2276</th>\n",
       "      <td>60.0</td>\n",
       "      <td>2.0</td>\n",
       "      <td>2.0</td>\n",
       "      <td>27.4</td>\n",
       "      <td>90.0</td>\n",
       "      <td>2.0</td>\n",
       "      <td>108.0</td>\n",
       "      <td>4.99</td>\n",
       "    </tr>\n",
       "    <tr>\n",
       "      <th>2277</th>\n",
       "      <td>26.0</td>\n",
       "      <td>1.0</td>\n",
       "      <td>2.0</td>\n",
       "      <td>24.5</td>\n",
       "      <td>108.0</td>\n",
       "      <td>2.0</td>\n",
       "      <td>108.0</td>\n",
       "      <td>3.76</td>\n",
       "    </tr>\n",
       "  </tbody>\n",
       "</table>\n",
       "<p>2278 rows × 8 columns</p>\n",
       "</div>"
      ],
      "text/plain": [
       "      RIDAGEYR  RIAGENDR  PAQ605  BMXBMI  LBXGLU  DIQ010  LBXGLT  LBXIN\n",
       "0         61.0       2.0     2.0    35.7   110.0     2.0   150.0  14.91\n",
       "1         26.0       2.0     2.0    20.3    89.0     2.0    80.0   3.85\n",
       "2         16.0       1.0     2.0    23.2    89.0     2.0    68.0   6.14\n",
       "3         32.0       1.0     2.0    28.9   104.0     2.0    84.0  16.15\n",
       "4         38.0       2.0     1.0    35.9   103.0     2.0    81.0  10.92\n",
       "...        ...       ...     ...     ...     ...     ...     ...    ...\n",
       "2273      38.0       2.0     2.0    33.5   100.0     2.0    73.0   6.53\n",
       "2274      61.0       1.0     2.0    30.0    93.0     2.0   208.0  13.02\n",
       "2275      34.0       1.0     2.0    23.7   103.0     2.0   124.0  21.41\n",
       "2276      60.0       2.0     2.0    27.4    90.0     2.0   108.0   4.99\n",
       "2277      26.0       1.0     2.0    24.5   108.0     2.0   108.0   3.76\n",
       "\n",
       "[2278 rows x 8 columns]"
      ]
     },
     "execution_count": 10,
     "metadata": {},
     "output_type": "execute_result"
    }
   ],
   "source": [
    "df = df.drop(columns=['SEQN', 'age_group'])\n",
    "df"
   ]
  },
  {
   "cell_type": "markdown",
   "id": "e0698ddc",
   "metadata": {},
   "source": [
    "### Problem a\n",
    "\n",
    "#### Model: $y = \\theta_0 + \\theta_1x_1 + \\theta_2x_2 + \\theta_3x_3 + \\theta_4x_4 + \\theta_5x_5 + \\theta_6x_6 + \\theta_7x_7$"
   ]
  },
  {
   "cell_type": "code",
   "execution_count": 11,
   "id": "196ba800",
   "metadata": {},
   "outputs": [
    {
     "name": "stdout",
     "output_type": "stream",
     "text": [
      "[[2.0316670739389044]\n",
      "[0.0005827995219441532]\n",
      "[-0.01435196539991661]\n",
      "[0.0004527383849819342]\n",
      "[0.0003149172663294287]\n",
      "[-0.000439932134827661]\n",
      "[1.0603782563941996e-05]\n",
      "[0.0012553690581378135]]\n",
      "\n",
      "The RMSE: 8.813941060900078\n"
     ]
    }
   ],
   "source": [
    "xs = df.drop(columns=['DIQ010']).values.tolist()\n",
    "y = df.DIQ010.values.tolist()\n",
    "y = transposeMatrix(y)\n",
    "\n",
    "A = getA(xs) # add the column one in the left front\n",
    "\n",
    "theta = OLS(A, y)\n",
    "printMatrix(theta)\n",
    "\n",
    "RMSE = calculateRMSE(A, theta, y)\n",
    "print()\n",
    "print(\"The RMSE:\", RMSE)"
   ]
  },
  {
   "cell_type": "markdown",
   "id": "9e40074f",
   "metadata": {},
   "source": [
    "### Problem b\n",
    "#### Model: $y = \\theta_0 + \\theta_1x$"
   ]
  },
  {
   "cell_type": "code",
   "execution_count": 12,
   "id": "78930853",
   "metadata": {},
   "outputs": [
    {
     "data": {
      "text/plain": [
       "['RIDAGEYR', 'RIAGENDR', 'PAQ605', 'BMXBMI', 'LBXGLU', 'LBXGLT', 'LBXIN']"
      ]
     },
     "execution_count": 12,
     "metadata": {},
     "output_type": "execute_result"
    }
   ],
   "source": [
    "feature_names = df.drop(columns=['DIQ010']).columns.tolist()\n",
    "feature_names"
   ]
  },
  {
   "cell_type": "code",
   "execution_count": 13,
   "id": "70607d79",
   "metadata": {},
   "outputs": [
    {
     "data": {
      "text/plain": [
       "[[61.0, 2.0, 2.0, 35.7, 110.0, 150.0, 14.91],\n",
       " [26.0, 2.0, 2.0, 20.3, 89.0, 80.0, 3.85],\n",
       " [16.0, 1.0, 2.0, 23.2, 89.0, 68.0, 6.14],\n",
       " [32.0, 1.0, 2.0, 28.9, 104.0, 84.0, 16.15],\n",
       " [38.0, 2.0, 1.0, 35.9, 103.0, 81.0, 10.92],\n",
       " [50.0, 1.0, 2.0, 23.6, 110.0, 100.0, 6.08],\n",
       " [14.0, 1.0, 2.0, 38.7, 94.0, 202.0, 21.11],\n",
       " [57.0, 2.0, 2.0, 38.3, 107.0, 164.0, 20.93],\n",
       " [75.0, 1.0, 2.0, 38.9, 89.0, 113.0, 17.47],\n",
       " [43.0, 1.0, 1.0, 28.9, 90.0, 95.0, 3.24]]"
      ]
     },
     "execution_count": 13,
     "metadata": {},
     "output_type": "execute_result"
    }
   ],
   "source": [
    "xs[:10]"
   ]
  },
  {
   "cell_type": "code",
   "execution_count": 14,
   "id": "805ef43c",
   "metadata": {},
   "outputs": [],
   "source": [
    "xs = transposeMatrix(xs)"
   ]
  },
  {
   "cell_type": "code",
   "execution_count": 15,
   "id": "7a2370eb",
   "metadata": {},
   "outputs": [
    {
     "name": "stdout",
     "output_type": "stream",
     "text": [
      "The RSS list:\n",
      "RIDAGEYR : 8.84326135835688\n",
      "theta_0 = 1.9970153755908515 , theta_1 = 0.0004600201069628355\n",
      "\n",
      "RIAGENDR : 8.849567756501944\n",
      "theta_0 = 2.0346232006448117 , theta_1 = -0.012161385730096095\n",
      "\n",
      "PAQ605 : 8.85429300101937\n",
      "theta_0 = 2.0184460091394425 , theta_1 = -0.0012090580008580487\n",
      "\n",
      "BMXBMI : 8.84448223113821\n",
      "theta_0 = 1.9825143998260697 , theta_1 = 0.0012064997620393088\n",
      "\n",
      "LBXGLU : 8.854236130305285\n",
      "theta_0 = 2.020813980917408 , theta_1 = -4.592184798551667e-05\n",
      "\n",
      "LBXGLT : 8.853898075529818\n",
      "theta_0 = 2.01180140696545 , theta_1 = 3.862369305633136e-05\n",
      "\n",
      "LBXIN : 8.838906009941889\n",
      "theta_0 = 2.002914221411699 , theta_1 = 0.0011261790254085214\n",
      "\n",
      "\n",
      "The min RSS: 8.838906009941889\n",
      "\n",
      "The feature have min RSS: LBXIN\n"
     ]
    }
   ],
   "source": [
    "theta_list, rss_list = [], []\n",
    "\n",
    "for i in range(len(xs)):\n",
    "    A = getA(xs[i])\n",
    "    theta = OLS(A, y)\n",
    "    theta_list.append(transposeMatrix(theta))\n",
    "    rss = calculateRMSE(A, theta, y)\n",
    "    rss_list.append(rss)\n",
    "    \n",
    "print(\"The RSS list:\")\n",
    "for i in range(len(xs)):\n",
    "    print(feature_names[i],':',rss_list[i])\n",
    "    print('theta_0 =',theta_list[i][0],', theta_1 =',theta_list[i][1])\n",
    "    print()\n",
    "print()\n",
    "\n",
    "minRSS = min(rss_list)\n",
    "print(\"The min RSS:\", minRSS)\n",
    "print()\n",
    "\n",
    "index_min_RSS = rss_list.index(minRSS)\n",
    "print(\"The feature have min RSS:\", feature_names[index_min_RSS])"
   ]
  },
  {
   "cell_type": "markdown",
   "id": "99622f91",
   "metadata": {},
   "source": [
    "<center>\n",
    "    $y = 2.002914221411699 + 0.0011261790254085214 \\times x_1$ <br> <br>\n",
    "    or $\\text{DIQ010} = 2.002914221411699 + 0.0011261790254085214 \\times \\text{LBXIN}$\n",
    "</center>"
   ]
  },
  {
   "cell_type": "markdown",
   "id": "a773568d",
   "metadata": {},
   "source": [
    "### Problem c"
   ]
  },
  {
   "cell_type": "code",
   "execution_count": 16,
   "id": "c5edb738",
   "metadata": {},
   "outputs": [
    {
     "data": {
      "image/png": "[encoded data removed]",
      "text/plain": [
       "<Figure size 1000x600 with 2 Axes>"
      ]
     },
     "metadata": {},
     "output_type": "display_data"
    }
   ],
   "source": [
    "import seaborn as sns\n",
    "import matplotlib.pyplot as plt\n",
    "\n",
    "fig, axis = plt.subplots(figsize=(10, 6))\n",
    "corr = df.corr()\n",
    "hm = sns.heatmap(corr, annot=True, ax = axis)"
   ]
  },
  {
   "cell_type": "markdown",
   "id": "c0179fff",
   "metadata": {},
   "source": [
    "**According to the heatmap above**, we can see that *RIAGENDR, PAQ605 and LBXGLU **negatively affect** the DIQ010* while *RIDAGEYR, BMXBMI, LBXGLT and LBXIN **positively affect** the DIQ010*.\n",
    "\n",
    "**In addition**, the LBXIN is the highest component affecting the DIQ010, but the PAQ605 is the lowest component affecting the DIQ010. However, the effects between the highest and the lowest are not far. "
   ]
  },
  {
   "cell_type": "markdown",
   "id": "6901a809",
   "metadata": {},
   "source": [
    "#### 4 Most affecting features\n",
    "From the heatmap above, it can be seen that there are 3 features RIDAGEYR, RIAGENDR, BMXBMI, and LBXIN have absolute values, which are corresponding with the DIQ010, are higher than 0.01 which are 0.05, 0.033, 0.047, and 0.059, respectively.\n",
    "\n",
    "Therefore, I choose these 3 features RIDAGEYR, BMXBMI, and LBXIN for the model. It has the form:\n",
    "<center>\n",
    "    $y = \\theta_0 + \\theta_1x_1 + \\theta_2x_2 + \\theta_3x_3 + \\theta_4x_4$<br>\n",
    "</center>"
   ]
  },
  {
   "cell_type": "code",
   "execution_count": 17,
   "id": "80f4b7db",
   "metadata": {},
   "outputs": [
    {
     "data": {
      "text/plain": [
       "[[1.9941278531817404],\n",
       " [0.000499367081641031],\n",
       " [-0.012139530832917933],\n",
       " [0.000227928627133724],\n",
       " [0.001116964674604393]]"
      ]
     },
     "execution_count": 17,
     "metadata": {},
     "output_type": "execute_result"
    }
   ],
   "source": [
    "xs_4features = df[['RIDAGEYR', 'RIAGENDR', 'BMXBMI', 'LBXIN']].values.tolist()\n",
    "\n",
    "A_4features = getA(xs_4features)\n",
    "\n",
    "theta = OLS(A_4features, y)\n",
    "\n",
    "theta"
   ]
  },
  {
   "cell_type": "code",
   "execution_count": 18,
   "id": "8404ea01",
   "metadata": {},
   "outputs": [
    {
     "name": "stdout",
     "output_type": "stream",
     "text": [
      "RSS:  8.820376829256867\n"
     ]
    }
   ],
   "source": [
    "theta = OLS(A_4features, y)\n",
    "\n",
    "RSS = calculateRMSE(A_4features, theta, y)\n",
    "print('RSS: ', RSS)"
   ]
  },
  {
   "cell_type": "markdown",
   "id": "aaa723b4",
   "metadata": {},
   "source": [
    "This result RSS above is slightly higher than the resut **8.813941060900078** in the problem A. So this model is not suitable."
   ]
  },
  {
   "cell_type": "markdown",
   "id": "9792af44",
   "metadata": {},
   "source": [
    "#### 2 Most affecting features\n",
    "Now I change the standard. Particularly, I chose features whose absolute values, which are corresponding with the DIQ010, are higher than 0.05. Therefore, there are 2 features RIDAGEYR and LBXIN equal to 0.05 and 0.059, respectively.\n",
    "\n",
    "Now, the model has the form:\n",
    "<center>\n",
    "    $y = \\theta_0 + \\theta_1x_1 + \\theta_2x_2$<br>\n",
    "</center>"
   ]
  },
  {
   "cell_type": "code",
   "execution_count": 19,
   "id": "58e84cb3",
   "metadata": {},
   "outputs": [
    {
     "data": {
      "text/plain": [
       "[[1.9802608476505519], [0.0005142533142532193], [0.001224170362262631]]"
      ]
     },
     "execution_count": 19,
     "metadata": {},
     "output_type": "execute_result"
    }
   ],
   "source": [
    "xs_2features = df[['RIDAGEYR', 'LBXIN']].values.tolist()\n",
    "\n",
    "A_2features = getA(xs_2features)\n",
    "\n",
    "theta = OLS(A_2features, y)\n",
    "\n",
    "theta"
   ]
  },
  {
   "cell_type": "code",
   "execution_count": 20,
   "id": "c195e55e",
   "metadata": {},
   "outputs": [
    {
     "name": "stdout",
     "output_type": "stream",
     "text": [
      "RSS:  8.82517324690271\n"
     ]
    }
   ],
   "source": [
    "theta = OLS(A_2features, y)\n",
    "\n",
    "RSS = calculateRMSE(A_2features, theta, y)\n",
    "print('RSS: ', RSS)"
   ]
  },
  {
   "cell_type": "markdown",
   "id": "0cdb4854",
   "metadata": {},
   "source": [
    "This result RSS above is still slightly higher than the resut **8.813941060900078** in the problem A. So this model is not suitable."
   ]
  },
  {
   "cell_type": "markdown",
   "id": "7ab8e7fa",
   "metadata": {},
   "source": [
    "#### 4 Positive affecting features\n",
    "Now, I change the approach that choosing only the positive effect components which are RIDAGEYR, BMXBMI, LBXGLT and LBXIN. The model has the form:\n",
    "<center>\n",
    "    $y = \\theta_0 + \\theta_1x_1 + \\theta_2x_2 + \\theta_3x_3 + \\theta_4x_4$<br>\n",
    "</center>"
   ]
  },
  {
   "cell_type": "code",
   "execution_count": 21,
   "id": "bc9fb519",
   "metadata": {},
   "outputs": [
    {
     "data": {
      "text/plain": [
       "[[1.9844053658750351],\n",
       " [0.0005862599711303182],\n",
       " [0.00014169258153234765],\n",
       " [-0.0001032522825890138],\n",
       " [0.001288108602918304]]"
      ]
     },
     "execution_count": 21,
     "metadata": {},
     "output_type": "execute_result"
    }
   ],
   "source": [
    "xs_pos = df[['RIDAGEYR', 'BMXBMI', 'LBXGLT', 'LBXIN']].values.tolist()\n",
    "\n",
    "A_pos = getA(xs_pos)\n",
    "\n",
    "theta = OLS(A_pos, y)\n",
    "\n",
    "theta"
   ]
  },
  {
   "cell_type": "code",
   "execution_count": 22,
   "id": "e0e10cd3",
   "metadata": {},
   "outputs": [
    {
     "name": "stdout",
     "output_type": "stream",
     "text": [
      "RSS:  8.822539911958229\n"
     ]
    }
   ],
   "source": [
    "theta = OLS(A_pos, y)\n",
    "\n",
    "RSS = calculateRMSE(A_pos, theta, y)\n",
    "print('RSS: ', RSS)"
   ]
  },
  {
   "cell_type": "markdown",
   "id": "5a621ec0",
   "metadata": {},
   "source": [
    "This result RSS above is still slightly higher than the resut **8.813941060900078** in the problem A. So this model is not suitable."
   ]
  },
  {
   "cell_type": "markdown",
   "id": "04569571",
   "metadata": {},
   "source": [
    "#### 3 Negative affecting features\n",
    "Now, I change the approach that choosing only the negative effect components which are RIAGENDR, PAQ605 and LBXGLU. The model has the form:\n",
    "<center>\n",
    "    $y = \\theta_0 + \\theta_1x_1 + \\theta_2x_2 + \\theta_3x_3$<br>\n",
    "</center>"
   ]
  },
  {
   "cell_type": "code",
   "execution_count": 23,
   "id": "b7247c6f",
   "metadata": {},
   "outputs": [
    {
     "data": {
      "text/plain": [
       "[[2.042609838417277],\n",
       " [-0.01274219451292253],\n",
       " [0.0011709917572843575],\n",
       " [-9.284596653518477e-05]]"
      ]
     },
     "execution_count": 23,
     "metadata": {},
     "output_type": "execute_result"
    }
   ],
   "source": [
    "xs_neg = df[['RIAGENDR', 'PAQ605', 'LBXGLU']].values.tolist()\n",
    "\n",
    "A_neg = getA(xs_neg)\n",
    "\n",
    "theta = OLS(A_neg, y)\n",
    "\n",
    "theta"
   ]
  },
  {
   "cell_type": "code",
   "execution_count": 24,
   "id": "3020eb27",
   "metadata": {},
   "outputs": [
    {
     "name": "stdout",
     "output_type": "stream",
     "text": [
      "RSS:  8.849194022045738\n"
     ]
    }
   ],
   "source": [
    "theta = OLS(A_neg, y)\n",
    "\n",
    "RSS = calculateRMSE(A_neg, theta, y)\n",
    "print('RSS: ', RSS)"
   ]
  },
  {
   "cell_type": "markdown",
   "id": "e2fd73ad",
   "metadata": {},
   "source": [
    "This result RSS above is still higher than the resut **8.813941060900078** in the problem A. So this model is not suitable."
   ]
  },
  {
   "cell_type": "markdown",
   "id": "d173a378",
   "metadata": {},
   "source": [
    "#### Quadratic equation\n",
    "According to all the models above, I conclude that all 7 features having the significant roles in the DIQ010. So I will choose all 7 features for the new model, but I did that in the problem a, which was a linear model. Therefore, I choose quadratic model which has the form:\n",
    "<center>\n",
    "    $y = \\theta_0 + \\theta_1x^2_1 + \\theta_2x^2_2 + \\theta_3x^2_3 + \\theta_4x^2_4 + \\theta_5x^2_5 + \\theta_6x^2_6 + \\theta_7x^2_7$<br>\n",
    "</center>"
   ]
  },
  {
   "cell_type": "code",
   "execution_count": 25,
   "id": "5fdbb05b",
   "metadata": {},
   "outputs": [],
   "source": [
    "X = df.drop(columns=['DIQ010'], axis=1).values.tolist()\n",
    "y = df.DIQ010.values.tolist()\n",
    "y = transposeMatrix(y)\n",
    "\n",
    "def generateTheCorrespondanceMatrix(X):\n",
    "    result = []\n",
    "    \n",
    "    for i in range(len(X)):\n",
    "        new_features = [1]  # Start with the intercept term\n",
    "        original_features = X[i]\n",
    "    \n",
    "        # Add squared features\n",
    "        for j in range(len(original_features)):\n",
    "            new_features.append(original_features[j] ** 2)\n",
    "\n",
    "        result.append(new_features)\n",
    "        \n",
    "    return result\n",
    "    \n",
    "A = generateTheCorrespondanceMatrix(X)"
   ]
  },
  {
   "cell_type": "code",
   "execution_count": 26,
   "id": "d5b39ff3",
   "metadata": {},
   "outputs": [
    {
     "name": "stdout",
     "output_type": "stream",
     "text": [
      "RSS:  8.810282265549803\n"
     ]
    }
   ],
   "source": [
    "theta = OLS(A, y)\n",
    "\n",
    "RSS = calculateRMSE(A, theta, y)\n",
    "print('RSS: ', RSS)"
   ]
  },
  {
   "cell_type": "markdown",
   "id": "f42ec9d7",
   "metadata": {},
   "source": [
    "This result RSS above is **smallest**, so the set of theta for the quadratic model is below:"
   ]
  },
  {
   "cell_type": "code",
   "execution_count": 27,
   "id": "aad8b46c",
   "metadata": {},
   "outputs": [
    {
     "data": {
      "text/plain": [
       "[[2.014616538878432],\n",
       " [5.758102816636596e-06],\n",
       " [-0.004955558586848635],\n",
       " [0.00023711181482046802],\n",
       " [1.8763384860379967e-05],\n",
       " [-1.420747333369488e-06],\n",
       " [-1.4459770348523645e-07],\n",
       " [8.87019823693754e-06]]"
      ]
     },
     "execution_count": 27,
     "metadata": {},
     "output_type": "execute_result"
    }
   ],
   "source": [
    "theta"
   ]
  }
 ],
 "metadata": {
  "kernelspec": {
   "display_name": "Python 3 (ipykernel)",
   "language": "python",
   "name": "python3"
  },
  "language_info": {
   "codemirror_mode": {
    "name": "ipython",
    "version": 3
   },
   "file_extension": ".py",
   "mimetype": "text/x-python",
   "name": "python",
   "nbconvert_exporter": "python",
   "pygments_lexer": "ipython3",
   "version": "3.11.7"
  }
 },
 "nbformat": 4,
 "nbformat_minor": 5
}
